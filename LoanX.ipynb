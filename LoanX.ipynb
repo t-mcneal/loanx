{
  "nbformat": 4,
  "nbformat_minor": 0,
  "metadata": {
    "colab": {
      "name": "LoanX.ipynb",
      "provenance": [],
      "collapsed_sections": [],
      "authorship_tag": "ABX9TyPIo3lhdrljX0phsGB3F7a2",
      "include_colab_link": true
    },
    "kernelspec": {
      "name": "python3",
      "display_name": "Python 3"
    }
  },
  "cells": [
    {
      "cell_type": "markdown",
      "metadata": {
        "id": "view-in-github",
        "colab_type": "text"
      },
      "source": [
        "<a href=\"https://colab.research.google.com/github/t-mcneal/loanx/blob/master/LoanX.ipynb\" target=\"_parent\"><img src=\"https://colab.research.google.com/assets/colab-badge.svg\" alt=\"Open In Colab\"/></a>"
      ]
    },
    {
      "cell_type": "markdown",
      "metadata": {
        "id": "JoKoZaYi5iA0"
      },
      "source": [
        "# LoanX\n",
        "\n",
        "Welcome to LoanX!\n",
        "\n",
        "LoanX helps student loan borrowers calculate and view their monthly payment breakdowns. The LoanX tool is designed on Colaboratory.\n",
        "\n"
      ]
    },
    {
      "cell_type": "markdown",
      "metadata": {
        "id": "bKRxIb2gN-uy"
      },
      "source": [
        "____"
      ]
    },
    {
      "cell_type": "markdown",
      "metadata": {
        "id": "5fCEDCU_qrC0"
      },
      "source": [
        "<p><img alt=\"Colaboratory logo\" height=\"45px\" src=\"/img/colab_favicon.ico\" align=\"left\" hspace=\"10px\" vspace=\"0px\"></p>\n",
        "\n",
        "<h1>What is Colaboratory?</h1>\n",
        "\n",
        "Colaboratory, or \"Colab\" for short, enables the writing and execution of the Python programming language in a browser. Created by Google, the Colab cloud platform can harness the full power of popular Python libraries for data analysis and visualization. The document you are reading is not a static web page, but an interactive environment called a Colab notebook.\n",
        "\n",
        "*source: [Google Colab](https://colab.research.google.com/notebooks/intro.ipynb#scrollTo=GJBs_flRovLc)*\n",
        "\n",
        "\n",
        "## **Getting Started** \n",
        "\n",
        "Colab uses cells like the one below to host Python code. To execute the code in the cells, select the cells with a click and then **press the play button** to the left of the cell. Also, it is important to execute the cells **in order** when interacting with Colab environments. Try out the cell below to practice using Colab cells. After clicking the play button, the cell should show the phrase, \"Hello World!\"\n",
        "\n",
        "\n"
      ]
    },
    {
      "cell_type": "code",
      "metadata": {
        "id": "89Q7h2BYE4pc",
        "cellView": "form"
      },
      "source": [
        "#@title << Play\n",
        "# double click the empty area on the right to hide code  -->\n",
        "\n",
        "\n",
        "\n",
        "# Python code\n",
        "\n",
        "def hello():\n",
        "  return 'Hello World!'\n",
        "\n",
        "hello = hello()\n",
        "print(hello)\n"
      ],
      "execution_count": null,
      "outputs": []
    },
    {
      "cell_type": "markdown",
      "metadata": {
        "id": "5LLW5SHOvQQv"
      },
      "source": [
        "## **Next Steps**\n",
        "\n",
        "You have now learned the basics of using Colab to operate the LoanX tool. Scroll down to start using LoanX."
      ]
    },
    {
      "cell_type": "markdown",
      "metadata": {
        "id": "Bk4c7RByK1gY"
      },
      "source": [
        "___"
      ]
    },
    {
      "cell_type": "markdown",
      "metadata": {
        "id": "kAXzhcH05NYY"
      },
      "source": [
        "# LoanX"
      ]
    },
    {
      "cell_type": "markdown",
      "metadata": {
        "id": "4J35zQTpdIYX"
      },
      "source": [
        "____"
      ]
    },
    {
      "cell_type": "markdown",
      "metadata": {
        "id": "IpN_7Gm4590Q"
      },
      "source": [
        "**CALCULATE PAYMENTS** | Calculate the monthly payment amount needed to repay your loan on time\n",
        "\n",
        "*   If using this monthly payment amount estimator for multiple loans, calculate each one separately and add up the payment estimates.\n",
        "*   Enter interest rate as a decimal or percent value. LoanX will assume your interest rate is less than 100%.\n",
        "*   Please note, the monthly payment amount is an estimate provided for information purposes only. *(1)*\n",
        "\n",
        "\n",
        "\n",
        "\n",
        "\n"
      ]
    },
    {
      "cell_type": "code",
      "metadata": {
        "id": "slcUF5ULn3Rx",
        "cellView": "form"
      },
      "source": [
        "#@title << Calculate Monthly Payment\n",
        "# double click the form on the right to hide code  -->\n",
        "\n",
        "Loan_Amount =   0#@param {type:\"number\"}\n",
        "Interest_Rate =   0#@param {type:\"number\"}\n",
        "Years_to_Repay =   0#@param {type:\"number\"}\n",
        "\n",
        "\n",
        "import numpy as np\n",
        "import pandas as pd\n",
        "import math\n",
        "from google.colab import files\n",
        "\n",
        "\n",
        "# FUNCTIONS\n",
        "\n",
        "def numsValid(lst):\n",
        "  \"\"\"Return True if all numbers in the list are greater than 0.\n",
        "  Returns False otherwise.\n",
        "\n",
        "  KeyWord arguments:\n",
        "  lst -- list of numbers\n",
        "  \"\"\"\n",
        "  for nums in lst:\n",
        "    if nums <= 0:\n",
        "      return False\n",
        "    else:\n",
        "      try: \n",
        "        float(nums)\n",
        "      except:\n",
        "        return False\n",
        "  return True\n",
        "\n",
        "\n",
        "def monPayment(loan, intRate, years):\n",
        "  \"\"\"Return monthly payment amount.\n",
        "\n",
        "  After calculating the monthly payment, the dollar amount can\n",
        "  equal long double values (i.e. 105.12893837). This method\n",
        "  rounds to two decimal places to present the number as a normal \n",
        "  dollar amount. The rounding needs to be very accurate, and \n",
        "  consider financial portions that are less than 1 cent. \n",
        "    \n",
        "  Keyword arguments:\n",
        "  loan -- laon amount\n",
        "  intRate -- interest rate\n",
        "  years -- years to repay loan\n",
        "  \"\"\"\n",
        "  j = intRate / 12\n",
        "  n = years * 12\n",
        "  monPay = loan * (j / (1 - (1 + j)**-n))\n",
        "  strMonPay = str(monPay) \n",
        "  if '.' in strMonPay:  \n",
        "    strMonPay = strMonPay.split('.') # parse string to get first 2 numbers after decimal \n",
        "    r = strMonPay[1]\n",
        "    if len(r) > 2:\n",
        "      r = int(r[:2]) + 1 \n",
        "    elif len(r) == 1:\n",
        "      r = int(r + '0')\n",
        "    else:\n",
        "      r = int(r[:2])\n",
        "    monPay = math.floor(monPay) + (r / 100)\n",
        "  return f'${monPay:,.2f}'\n",
        "\n",
        "\n",
        "def checkRate(intRate):\n",
        "  \"\"\"Check if interest rate is decimal or percentage.\n",
        "\n",
        "  Interest rates can be entered on the LoanX forms as a \n",
        "  decimal or percent value. LoanX will assume the interest\n",
        "  rate is less than 100%.\n",
        "\n",
        "  Keyword arguments:\n",
        "  intRate -- interest rate\n",
        "  \"\"\"\n",
        "  if intRate >= 1:\n",
        "    intRate = intRate / 100\n",
        "  return intRate\n",
        "\n",
        "\n",
        "def download(dataFrame):\n",
        "  \"\"\"Download Pandas dataframe as a CSV file.\n",
        "\n",
        "  Keyword arguments:\n",
        "  dataFrame -- Pandas data frame\n",
        "  \"\"\"\n",
        "  df = dataFrame\n",
        "  df.to_csv('amortization_schedule.csv') \n",
        "  files.download('amortization_schedule.csv')\n",
        "\n",
        "\n",
        "class StudentLoan(object):\n",
        "\n",
        "    def __init__(self, loan=1000, intRate=0.001,\n",
        "                 payment=100, years=1):\n",
        "        \"\"\"The constructor.\n",
        "        \n",
        "        Keyword arguments:\n",
        "        loan -- student loan amount (default 1000)\n",
        "        intRate -- interest rate (default 0.001)\n",
        "        payment -- monthly payment amount (default 100)\n",
        "        years -- years to repay loan (default 1)\n",
        "        \"\"\"\n",
        "        self.loan = loan\n",
        "        self.intRate = intRate\n",
        "        self.payment = payment\n",
        "        self.years = years\n",
        "\n",
        "    def setLoan(self, value):\n",
        "        \"\"\"Set the loan amount\"\"\"\n",
        "        self.loan = value\n",
        "\n",
        "    def setIntRate(self, value):\n",
        "        \"\"\"Set the interest rate\"\"\"\n",
        "        self.intRate = value\n",
        "\n",
        "    def setPayment(self, value):\n",
        "        \"\"\"Set the monthly payment amount\"\"\"\n",
        "        self.payment = value\n",
        "\n",
        "    def setYears(self, value):\n",
        "        \"\"\"Set the number of years to repay the loan\"\"\"\n",
        "        self.years = value\n",
        "\n",
        "    # List of variables names in the methods below:\n",
        "    #\n",
        "    # pb -- Principal Balance\n",
        "    # intPaid -- Interest Paid\n",
        "    # prinPaid -- Principal Paid\n",
        "    # nb -- New Balance\n",
        "\n",
        "    def repay(self):\n",
        "        \"\"\"Return time it will take to repay loan\"\"\"\n",
        "        nb = self.loan\n",
        "        lastMonth = self.years * 12\n",
        "        for i in range(lastMonth):\n",
        "            if nb > 0:\n",
        "                month = i + 1\n",
        "                pb = nb\n",
        "                nb = self.__newBal(pb)\n",
        "        if month == lastMonth and nb > 0:\n",
        "            payIncr = self.__payIncrease()\n",
        "            return payIncr\n",
        "        else:\n",
        "            payDet = self.__payDetails(month)\n",
        "            return payDet\n",
        "            \n",
        "\n",
        "    # NumPy and Pandas is used in the schedule() method\n",
        "    # below to create a data frame. The created data frame\n",
        "    # is an amortization schedule. \n",
        "    \n",
        "    def schedule(self):\n",
        "        \"\"\"Return loan amortization schedule\"\"\"\n",
        "        pd.set_option('max_rows', 360)\n",
        "        nb = self.loan\n",
        "        payment = self.payment\n",
        "        scheduleData = []\n",
        "        lastMonth = self.years * 12\n",
        "        for i in range(lastMonth):\n",
        "            dataRow = []\n",
        "            if nb <= 0:\n",
        "                break\n",
        "            else:\n",
        "                month = i + 1\n",
        "                pb = nb\n",
        "                intPaid = self.intRate / 12 * pb\n",
        "                prinPaid = self.payment - intPaid\n",
        "                if prinPaid > pb:\n",
        "                  prinPaid = pb\n",
        "                  payment = intPaid + prinPaid\n",
        "                nb = pb - prinPaid\n",
        "                dataRow.append(month) \n",
        "                dataRow.append(f'${pb:,.2f}')\n",
        "                dataRow.append(f'${payment:,.2f}')\n",
        "                dataRow.append(f'${intPaid:,.2f}')\n",
        "                dataRow.append(f'${prinPaid:,.2f}')\n",
        "                if nb > 0:\n",
        "                    dataRow.append(f'${nb:,.2f}')\n",
        "                else:\n",
        "                    dataRow.append('$0.00')\n",
        "                scheduleData.append(dataRow)\n",
        "        \n",
        "        # np -- NumPy\n",
        "        # pd -- Pandas\n",
        "        userData = np.array(scheduleData)\n",
        "        column_names = ['Month', 'Principal_Balance', 'Payment', 'Interest_Paid', 'Principal_Paid', 'New_Balance']\n",
        "        df = pd.DataFrame(data=userData, columns=column_names)\n",
        "        df.set_index('Month', inplace=True)\n",
        "        return df\n",
        "\n",
        "    # Private Method\n",
        "    def __newBal(self, pb):\n",
        "        \"\"\"Return new principal balance of loan after making a payment.\n",
        "        \n",
        "        Keyword arguments:\n",
        "        pb -- principal balance\n",
        "        \"\"\"\n",
        "        intPaid = self.intRate / 12 * pb\n",
        "        prinPaid = self.payment - intPaid\n",
        "        nb = pb - prinPaid\n",
        "        return nb\n",
        "\n",
        "    # Private Method\n",
        "    def __payDetails(self, month):\n",
        "        \"\"\"Return details of payment duration.\n",
        "        \n",
        "        Keyword arguements:\n",
        "        month -- number of months it will take to repay loan\n",
        "        \"\"\"\n",
        "        return f'''The ${self.loan:,.2f} loan will take {math.floor(month / 12)} years \n",
        "and {month % 12} months to repay with a monthly payment of ${self.payment:,.2f}.'''\n",
        "\n",
        "    # Private Method\n",
        "    def __payIncrease(self):\n",
        "        \"\"\"Return suggestion to increase monthly payment\"\"\"\n",
        "        mPay = self.__monPayment(self.loan, self.intRate, self.years)\n",
        "        word = 'year'\n",
        "        if self.years > 1:\n",
        "            word = word + 's'\n",
        "        return f'''The ${self.loan:,.2f} loan will take over {self.years} years to repay\n",
        "with a monthly payment of ${self.payment:,.2f}. \\n\\nIncrease monthly payment to ${mPay:,.2f} to repay the loan \n",
        "within {self.years} {word}.'''\n",
        "        \n",
        "    # Private Method\n",
        "    def __monPayment(self, loan, intRate, years):\n",
        "        \"\"\"Return monthly payment amount.\n",
        "\n",
        "        Keyword arguments:\n",
        "        loan -- laon amount\n",
        "        intRate -- interest rate\n",
        "        years -- years to repay loan\n",
        "        \"\"\"\n",
        "        j = intRate / 12\n",
        "        n = years * 12\n",
        "        monPay = loan * (j / (1 - (1 + j)**-n))\n",
        "        strMonPay = str(monPay)\n",
        "        if '.' in strMonPay:\n",
        "            strMonPay = strMonPay.split('.')\n",
        "            r = strMonPay[1]\n",
        "            if len(r) > 2:\n",
        "                r = int(r[:2]) + 1\n",
        "            elif len(r) == 1:\n",
        "                r = int(r + '0')\n",
        "            else:\n",
        "                r = int(r[:2])\n",
        "            return math.floor(monPay) + (r / 100)\n",
        "        return monPay\n",
        "\n",
        "    def __repr__(self):\n",
        "        \"\"\"Representation of StudentLoan object\"\"\"\n",
        "        print(f'StudentLoan({self.loan}, {self.intRate}, {self.payment}, {self.years})')\n",
        "\n",
        "    def __str__(self):\n",
        "        \"\"\"String representation of StudentLoan object\"\"\"\n",
        "        word = 'year'\n",
        "        if self.years > 1:\n",
        "            word = word + 's'\n",
        "        print(f'''The ${self.loan:,.2f} student loan has an interest rate \n",
        "of {self.intRate * 100:.2f}% and monthly payment of ${self.payment:,.2f}.''')\n",
        "        print()\n",
        "        print(f'The loan must be repaid within {self.years} {word}.')\n",
        "\n",
        "\n",
        "\n",
        "\n",
        "\n",
        "# Python code for \"Calculate Monthly Payment\" FORM    \n",
        "try:\n",
        "  valid = numsValid([Loan_Amount, Interest_Rate, Years_to_Repay])\n",
        "  if valid:\n",
        "    Interest_Rate = checkRate(Interest_Rate)\n",
        "    payment = monPayment(Loan_Amount, Interest_Rate, Years_to_Repay)\n",
        "    print(payment)\n",
        "  else:\n",
        "    print('All values must be a number greater than 0')\n",
        "except:\n",
        "  print('Sorry, we couldn\\'t process your request.')\n",
        "  print()\n",
        "  print('''Please double check that you pressed play on all previous cells\n",
        "  at least once.''')\n"
      ],
      "execution_count": null,
      "outputs": []
    },
    {
      "cell_type": "markdown",
      "metadata": {
        "id": "UizwCtx7ppT5"
      },
      "source": [
        "______"
      ]
    },
    {
      "cell_type": "markdown",
      "metadata": {
        "id": "_iiAzMXwahNN"
      },
      "source": [
        "**VIEW SCHEDULE** | Create an amortization schedule to see monthly payment breakdows\n",
        "\n",
        "An **amortization schedule** shows monthly payment breakdowns of a loan. Create an amortization schedule below to view a detailed breakdown of your monthly payments.\n",
        "\n",
        "\n",
        "**Explore:** If you're interested in exploring the possibility of repaying your loan faster, increase your monthly payment amount in the form below. By increasing your monthly payment amount, you can cut down on the duration of years and months it will take you to pay off the loan. Explore how you can reach your debt-free goals quicker!\n"
      ]
    },
    {
      "cell_type": "code",
      "metadata": {
        "id": "13OBqP45O60L",
        "cellView": "form"
      },
      "source": [
        "#@title << Create Amortization Schedule\n",
        "# double click the form on the right to hide code  -->\n",
        "#@markdown NOTE: You may have to scroll up a created schedule to view Month 1.\n",
        "\n",
        "#@title Number fields\n",
        "Loan_Amount =   0#@param {type:\"number\"}\n",
        "Interest_Rate =   0#@param {type:\"number\"}\n",
        "Years_to_Repay =   0#@param {type:\"number\"}\n",
        "Monthly_Payment =   0#@param {type:\"number\"}\n",
        "\n",
        "\n",
        "# Python code for \"Create Amortization Schedule\" FORM\n",
        "try:\n",
        "  valid = numsValid([Loan_Amount, Interest_Rate, Monthly_Payment, Years_to_Repay])\n",
        "  if valid:\n",
        "    Interest_Rate = checkRate(Interest_Rate)\n",
        "    a = StudentLoan(Loan_Amount, Interest_Rate, Monthly_Payment, Years_to_Repay)\n",
        "    details = a.repay()\n",
        "    if \"Increase\" in details:\n",
        "      print(details)\n",
        "    else:\n",
        "      print(details)\n",
        "      print()\n",
        "      display(a.schedule())\n",
        "  else:\n",
        "    print('All values must be a number greater than 0')\n",
        "    print()\n",
        "except:\n",
        "  print('Sorry, we couldn\\'t process your request.')\n",
        "  print()\n",
        "  print('''Please double check that you pressed play on all previous cells\n",
        "  at least once.''')\n",
        "\n",
        "\n"
      ],
      "execution_count": null,
      "outputs": []
    },
    {
      "cell_type": "markdown",
      "metadata": {
        "id": "NjYcgoUllIk6"
      },
      "source": [
        "_____"
      ]
    },
    {
      "cell_type": "markdown",
      "metadata": {
        "id": "S2l2OOeUf5cc"
      },
      "source": [
        "**DOWNLOAD FILE** | Download a CSV file of your student loan amortization schedule"
      ]
    },
    {
      "cell_type": "code",
      "metadata": {
        "id": "XwMtCeRlgGWK",
        "cellView": "form"
      },
      "source": [
        "#@title << Download Amortization Schedule\n",
        "# double click the empty area on the right to hide code  -->\n",
        "\n",
        "\n",
        "# Python code for Downloading CSV file\n",
        "try:\n",
        "  download(a.schedule())\n",
        "except:\n",
        "  print('Sorry, we couldn\\'t process your request.')\n",
        "  print()\n",
        "  print('''Please double check that you pressed play on all previous cells\n",
        "  at least once.''')\n",
        "  "
      ],
      "execution_count": null,
      "outputs": []
    },
    {
      "cell_type": "markdown",
      "metadata": {
        "id": "1LTxdNWny0i2"
      },
      "source": [
        "____"
      ]
    },
    {
      "cell_type": "markdown",
      "metadata": {
        "id": "PIIR9OxtxNAX"
      },
      "source": [
        "## **DISCLAIMER** | Read the important disclaimer about LoanX\n",
        "\n",
        "1. LoanX does not guarantee the estimator accuracy or applicability to a person's individual circumstances. The estimated monthly payment assumes the same payment amount and fixed interest rate for the life of the loan and does not account for a variable interest rate. The estimate does not account for missed payments, the use of deferment or forbearance, or any required minimum monthly payment amount for a particular loan. For new loans, this estimate does not account for any payments made during the in-school and separation or grace periods, or any interest that accrues or capitalizes during that time. For loans entering principal and interest repayment, this estimate does not factor in accruing interest or any payments made between now and when the loan enters principal and interest repayment.\n"
      ]
    },
    {
      "cell_type": "markdown",
      "metadata": {
        "id": "Aogb1jtjC60v"
      },
      "source": [
        "© 2020 LoanX"
      ]
    }
  ]
}